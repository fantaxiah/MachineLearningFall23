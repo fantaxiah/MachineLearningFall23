{
  "nbformat": 4,
  "nbformat_minor": 0,
  "metadata": {
    "colab": {
      "provenance": [],
      "authorship_tag": "ABX9TyPErgcsVP8HHpowPMYXhRZ9",
      "include_colab_link": true
    },
    "kernelspec": {
      "name": "python3",
      "display_name": "Python 3"
    },
    "language_info": {
      "name": "python"
    }
  },
  "cells": [
    {
      "cell_type": "markdown",
      "metadata": {
        "id": "view-in-github",
        "colab_type": "text"
      },
      "source": [
        "<a href=\"https://colab.research.google.com/github/fantaxiah/MachineLearningFall23/blob/main/MATH8334HW2.ipynb\" target=\"_parent\"><img src=\"https://colab.research.google.com/assets/colab-badge.svg\" alt=\"Open In Colab\"/></a>"
      ]
    },
    {
      "cell_type": "code",
      "execution_count": null,
      "metadata": {
        "id": "7mSVLPEziBwr"
      },
      "outputs": [],
      "source": [
        "import numpy as np\n",
        "import pandas as pd\n",
        "import statsmodels.api as sm"
      ]
    },
    {
      "cell_type": "markdown",
      "source": [
        "### **Question 2**"
      ],
      "metadata": {
        "id": "4SEPEwcdSS5T"
      }
    },
    {
      "cell_type": "code",
      "source": [
        "data = np.array([[1, 3],\n",
        "                [-1, -2],\n",
        "                [2, 4]])\n",
        "\n",
        "print(data)"
      ],
      "metadata": {
        "colab": {
          "base_uri": "https://localhost:8080/"
        },
        "id": "XPSFWgu7RgY9",
        "outputId": "97b03c86-f4d4-427d-e60c-bbf965e69dd2"
      },
      "execution_count": null,
      "outputs": [
        {
          "output_type": "stream",
          "name": "stdout",
          "text": [
            "[[ 1  3]\n",
            " [-1 -2]\n",
            " [ 2  4]]\n"
          ]
        }
      ]
    },
    {
      "cell_type": "code",
      "source": [
        "rownames = [\"1\", \"2\", \"3\"]\n",
        "colnames = [\"x^i\", \"t^i\"]\n",
        "\n",
        "Data1 = pd.DataFrame(data, index=rownames, columns=colnames)\n",
        "\n",
        "print(Data1)"
      ],
      "metadata": {
        "colab": {
          "base_uri": "https://localhost:8080/"
        },
        "id": "NtzZzwAhRkf2",
        "outputId": "dcff6488-bbe3-4c10-891d-c1c400c5264e"
      },
      "execution_count": null,
      "outputs": [
        {
          "output_type": "stream",
          "name": "stdout",
          "text": [
            "   x^i  t^i\n",
            "1    1    3\n",
            "2   -1   -2\n",
            "3    2    4\n"
          ]
        }
      ]
    },
    {
      "cell_type": "code",
      "source": [
        "X = Data1['x^i']\n",
        "y = Data1['t^i']\n",
        "model = sm.OLS(y, X).fit()\n",
        "\n",
        "print(model.summary())"
      ],
      "metadata": {
        "colab": {
          "base_uri": "https://localhost:8080/"
        },
        "id": "xcQX-0bYR5JH",
        "outputId": "95e22973-ecee-4a16-e914-f1183f1a7f91"
      },
      "execution_count": null,
      "outputs": [
        {
          "output_type": "stream",
          "name": "stdout",
          "text": [
            "                                 OLS Regression Results                                \n",
            "=======================================================================================\n",
            "Dep. Variable:                    t^i   R-squared (uncentered):                   0.971\n",
            "Model:                            OLS   Adj. R-squared (uncentered):              0.957\n",
            "Method:                 Least Squares   F-statistic:                              67.60\n",
            "Date:                Wed, 04 Oct 2023   Prob (F-statistic):                      0.0145\n",
            "Time:                        20:02:11   Log-Likelihood:                         -2.3354\n",
            "No. Observations:                   3   AIC:                                      6.671\n",
            "Df Residuals:                       2   BIC:                                      5.769\n",
            "Df Model:                           1                                                  \n",
            "Covariance Type:            nonrobust                                                  \n",
            "==============================================================================\n",
            "                 coef    std err          t      P>|t|      [0.025      0.975]\n",
            "------------------------------------------------------------------------------\n",
            "x^i            2.1667      0.264      8.222      0.014       1.033       3.301\n",
            "==============================================================================\n",
            "Omnibus:                          nan   Durbin-Watson:                   0.833\n",
            "Prob(Omnibus):                    nan   Jarque-Bera (JB):                0.296\n",
            "Skew:                           0.173   Prob(JB):                        0.862\n",
            "Kurtosis:                       1.500   Cond. No.                         1.00\n",
            "==============================================================================\n",
            "\n",
            "Notes:\n",
            "[1] R² is computed without centering (uncentered) since the model does not contain a constant.\n",
            "[2] Standard Errors assume that the covariance matrix of the errors is correctly specified.\n"
          ]
        },
        {
          "output_type": "stream",
          "name": "stderr",
          "text": [
            "/usr/local/lib/python3.10/dist-packages/statsmodels/stats/stattools.py:74: ValueWarning: omni_normtest is not valid with less than 8 observations; 3 samples were given.\n",
            "  warn(\"omni_normtest is not valid with less than 8 observations; %i \"\n"
          ]
        }
      ]
    },
    {
      "cell_type": "code",
      "source": [
        "13/6 #This was the best value we found for beta_1, and should be the same as the coef of x^1"
      ],
      "metadata": {
        "colab": {
          "base_uri": "https://localhost:8080/"
        },
        "id": "0bxqlEt3SOI6",
        "outputId": "ac8afd5e-c86e-457c-ce60-d8d215faeb59"
      },
      "execution_count": null,
      "outputs": [
        {
          "output_type": "execute_result",
          "data": {
            "text/plain": [
              "2.1666666666666665"
            ]
          },
          "metadata": {},
          "execution_count": 8
        }
      ]
    },
    {
      "cell_type": "markdown",
      "source": [
        "### **Question 3**"
      ],
      "metadata": {
        "id": "HPCOOpMjSXui"
      }
    },
    {
      "cell_type": "code",
      "source": [
        "from sklearn.model_selection import train_test_split\n",
        "from sklearn.preprocessing import StandardScaler\n",
        "from sklearn.neighbors import KNeighborsRegressor\n",
        "from sklearn.metrics import mean_squared_error, mean_absolute_error"
      ],
      "metadata": {
        "id": "FFZnRh9kSnvq"
      },
      "execution_count": null,
      "outputs": []
    },
    {
      "cell_type": "code",
      "source": [
        "np.random.seed(999) #Generates the same every time\n",
        "\n",
        "#1000 datapoints with normal distribution, mean 0 and variance 25\n",
        "N = np.random.normal(0, 25, 1000)\n",
        "\n",
        "#1000 datapoints from an uniform distribution [0,1]\n",
        "X1 = np.random.uniform(0, 1, 1000)\n",
        "X2 = np.random.uniform(0, 1, 1000)\n",
        "X3 = np.random.uniform(0, 1, 1000)\n",
        "X4 = np.random.uniform(0, 1, 1000)\n",
        "X5 = np.random.uniform(0, 1, 1000)"
      ],
      "metadata": {
        "id": "MMHnQdSFGT9X"
      },
      "execution_count": null,
      "outputs": []
    },
    {
      "cell_type": "code",
      "source": [
        "data1 = pd.DataFrame({'X1': X1, 'X2': X2, 'X3': X3, 'X4': X4, 'X5': X5})\n",
        "\n",
        "#Non-linear model\n",
        "y = 10 * np.sin(np.pi * X1 * X2) + 20 * (X3 - 0.5) ** 2 + 10 * X4 + 5 * X5 + N\n",
        "\n",
        "data1['y'] = y\n",
        "\n",
        "print(data1.describe())\n",
        "print(data1.info())"
      ],
      "metadata": {
        "colab": {
          "base_uri": "https://localhost:8080/"
        },
        "id": "DkGFJOw2GpbS",
        "outputId": "c3c35e80-ec9b-438b-e837-8e78448ab48d"
      },
      "execution_count": null,
      "outputs": [
        {
          "output_type": "stream",
          "name": "stdout",
          "text": [
            "                X1           X2           X3           X4           X5  \\\n",
            "count  1000.000000  1000.000000  1000.000000  1000.000000  1000.000000   \n",
            "mean      0.488290     0.502646     0.503671     0.488036     0.481814   \n",
            "std       0.287485     0.288030     0.292912     0.293853     0.283995   \n",
            "min       0.000215     0.000253     0.000175     0.000992     0.000088   \n",
            "25%       0.248892     0.258307     0.248352     0.230644     0.237692   \n",
            "50%       0.483330     0.502784     0.513685     0.480497     0.483653   \n",
            "75%       0.732597     0.756380     0.761804     0.734225     0.715128   \n",
            "max       0.999580     0.996183     0.998208     0.999012     0.999875   \n",
            "\n",
            "                 y  \n",
            "count  1000.000000  \n",
            "mean     13.788613  \n",
            "std      26.272258  \n",
            "min     -72.227812  \n",
            "25%      -3.119374  \n",
            "50%      14.235474  \n",
            "75%      30.996596  \n",
            "max      91.753076  \n",
            "<class 'pandas.core.frame.DataFrame'>\n",
            "RangeIndex: 1000 entries, 0 to 999\n",
            "Data columns (total 6 columns):\n",
            " #   Column  Non-Null Count  Dtype  \n",
            "---  ------  --------------  -----  \n",
            " 0   X1      1000 non-null   float64\n",
            " 1   X2      1000 non-null   float64\n",
            " 2   X3      1000 non-null   float64\n",
            " 3   X4      1000 non-null   float64\n",
            " 4   X5      1000 non-null   float64\n",
            " 5   y       1000 non-null   float64\n",
            "dtypes: float64(6)\n",
            "memory usage: 47.0 KB\n",
            "None\n"
          ]
        }
      ]
    },
    {
      "cell_type": "code",
      "source": [
        "X = data1.iloc[:, :-1]  #Features (X1 to X5)\n",
        "y = data1.iloc[:, -1]   #Target variable (y)"
      ],
      "metadata": {
        "id": "figKGSdZGuwI"
      },
      "execution_count": null,
      "outputs": []
    },
    {
      "cell_type": "markdown",
      "source": [
        "i. Partition the simulated data set into two parts. Use 80% of the data for training and\n",
        "allocate the rest for testing."
      ],
      "metadata": {
        "id": "Sl7wvqjeQns2"
      }
    },
    {
      "cell_type": "code",
      "source": [
        "#Split the data into training and testing sets (80% training, 20% testing)\n",
        "X_train, X_test, y_train, y_test = train_test_split(X, y, test_size=0.2, random_state=999)\n",
        "\n",
        "data = {\n",
        "    'Train Features': [X_train.shape[0]],\n",
        "    'Test Features': [X_test.shape[0]],\n",
        "    'Train Labels': [y_train.shape[0]],\n",
        "    'Test Labels': [y_test.shape[0]]\n",
        "}\n",
        "\n",
        "df = pd.DataFrame(data)\n",
        "print(\"Dataset Split:\")\n",
        "print(df)"
      ],
      "metadata": {
        "colab": {
          "base_uri": "https://localhost:8080/"
        },
        "id": "_O_25v37HIHi",
        "outputId": "d93ecf01-bcfa-41d6-e22e-65d4f196b936"
      },
      "execution_count": null,
      "outputs": [
        {
          "output_type": "stream",
          "name": "stdout",
          "text": [
            "Dataset Split:\n",
            "   Train Features  Test Features  Train Labels  Test Labels\n",
            "0             800            200           800          200\n"
          ]
        }
      ]
    },
    {
      "cell_type": "code",
      "source": [
        "scaler = StandardScaler()\n",
        "\n",
        "X_train_scaled = scaler.fit_transform(X_train)\n",
        "\n",
        "X_test_scaled = scaler.transform(X_test)"
      ],
      "metadata": {
        "id": "8x45C1vYHQRQ"
      },
      "execution_count": null,
      "outputs": []
    },
    {
      "cell_type": "code",
      "source": [
        "#KNN\n",
        "k_values = [5, 7, 9, 11, 13, 15, 17, 19, 21]\n",
        "trained_kNN_models = []\n",
        "rmse_scores = []\n",
        "mae_scores = []"
      ],
      "metadata": {
        "id": "3OBEZdCCHWr7"
      },
      "execution_count": null,
      "outputs": []
    },
    {
      "cell_type": "code",
      "source": [
        "for k in k_values:\n",
        "    knn_model = KNeighborsRegressor(n_neighbors=k)\n",
        "    knn_model.fit(X_train_scaled, y_train)\n",
        "    trained_kNN_models.append(knn_model)\n",
        "\n",
        "    # Make predictions on the testing data\n",
        "    y_pred = knn_model.predict(X_test_scaled)\n",
        "\n",
        "    #Calculate RMSE and MAE\n",
        "    rmse = np.sqrt(mean_squared_error(y_test, y_pred))\n",
        "    mae = mean_absolute_error(y_test, y_pred)\n",
        "\n",
        "    rmse_scores.append(rmse)\n",
        "    mae_scores.append(mae)\n",
        "\n",
        "    print(f\"For k = {k}:\")\n",
        "    print(\"RMSE:\", rmse)\n",
        "    print(\"MAE:\", mae)\n",
        "    print(\"\\n\")\n",
        "\n",
        "# for k values 55, 7, 9, 11, 13, 15, 17, 19, 21"
      ],
      "metadata": {
        "colab": {
          "base_uri": "https://localhost:8080/"
        },
        "id": "6Su9K0asHeoY",
        "outputId": "f1791dc2-ff1e-4e27-a1e5-507dd4aea04d"
      },
      "execution_count": null,
      "outputs": [
        {
          "output_type": "stream",
          "name": "stdout",
          "text": [
            "For k = 5:\n",
            "RMSE: 27.552204756143837\n",
            "MAE: 21.16153605443154\n",
            "\n",
            "\n",
            "For k = 7:\n",
            "RMSE: 27.31553436715009\n",
            "MAE: 20.878072807767424\n",
            "\n",
            "\n",
            "For k = 9:\n",
            "RMSE: 26.544261018519485\n",
            "MAE: 20.33867683952654\n",
            "\n",
            "\n",
            "For k = 11:\n",
            "RMSE: 26.614671887186258\n",
            "MAE: 20.461105367953984\n",
            "\n",
            "\n",
            "For k = 13:\n",
            "RMSE: 26.098714212434075\n",
            "MAE: 20.038312552437425\n",
            "\n",
            "\n",
            "For k = 15:\n",
            "RMSE: 26.09635934103885\n",
            "MAE: 20.1045521805503\n",
            "\n",
            "\n",
            "For k = 17:\n",
            "RMSE: 26.134187674669402\n",
            "MAE: 20.191786116448284\n",
            "\n",
            "\n",
            "For k = 19:\n",
            "RMSE: 25.90664009016981\n",
            "MAE: 19.972135555064266\n",
            "\n",
            "\n",
            "For k = 21:\n",
            "RMSE: 26.027779728216462\n",
            "MAE: 19.98324047507546\n",
            "\n",
            "\n"
          ]
        }
      ]
    },
    {
      "cell_type": "code",
      "source": [
        "results_data = {\n",
        "    'k_values': k_values,\n",
        "    'RMSE': rmse_scores,\n",
        "    'MAE': mae_scores\n",
        "}\n",
        "\n",
        "results_df = pd.DataFrame(results_data)\n",
        "\n",
        "# Print the table\n",
        "print(\"Results:\")\n",
        "print(results_df)"
      ],
      "metadata": {
        "id": "flGdTu2SRi2-",
        "outputId": "76e07e69-92e6-4f65-fc8e-395656331246",
        "colab": {
          "base_uri": "https://localhost:8080/"
        }
      },
      "execution_count": null,
      "outputs": [
        {
          "output_type": "stream",
          "name": "stdout",
          "text": [
            "Results:\n",
            "   k_values       RMSE        MAE\n",
            "0         5  27.552205  21.161536\n",
            "1         7  27.315534  20.878073\n",
            "2         9  26.544261  20.338677\n",
            "3        11  26.614672  20.461105\n",
            "4        13  26.098714  20.038313\n",
            "5        15  26.096359  20.104552\n",
            "6        17  26.134188  20.191786\n",
            "7        19  25.906640  19.972136\n",
            "8        21  26.027780  19.983240\n"
          ]
        }
      ]
    },
    {
      "cell_type": "code",
      "source": [
        "#Finding the optimal k:\n",
        "optimal_k_rmse = k_values[np.argmin(rmse_scores)]\n",
        "optimal_k_mae = k_values[np.argmin(mae_scores)]\n",
        "\n",
        "print(f\"Optimal k based on RMSE: {optimal_k_rmse}\")\n",
        "print(f\"Optimal k based on MAE: {optimal_k_mae}\")"
      ],
      "metadata": {
        "colab": {
          "base_uri": "https://localhost:8080/"
        },
        "id": "wzDld-WIHqZb",
        "outputId": "a44eb6e5-33b1-4873-d551-2b184c43daef"
      },
      "execution_count": null,
      "outputs": [
        {
          "output_type": "stream",
          "name": "stdout",
          "text": [
            "Optimal k based on RMSE: 19\n",
            "Optimal k based on MAE: 19\n"
          ]
        }
      ]
    }
  ]
}