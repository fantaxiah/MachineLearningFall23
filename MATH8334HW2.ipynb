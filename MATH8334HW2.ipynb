{
  "nbformat": 4,
  "nbformat_minor": 0,
  "metadata": {
    "colab": {
      "provenance": [],
      "authorship_tag": "ABX9TyNOTmSCEVdfA8922UodFCjN",
      "include_colab_link": true
    },
    "kernelspec": {
      "name": "python3",
      "display_name": "Python 3"
    },
    "language_info": {
      "name": "python"
    }
  },
  "cells": [
    {
      "cell_type": "markdown",
      "metadata": {
        "id": "view-in-github",
        "colab_type": "text"
      },
      "source": [
        "<a href=\"https://colab.research.google.com/github/fantaxiah/MachineLearningFall23/blob/main/MATH8334HW2.ipynb\" target=\"_parent\"><img src=\"https://colab.research.google.com/assets/colab-badge.svg\" alt=\"Open In Colab\"/></a>"
      ]
    },
    {
      "cell_type": "code",
      "execution_count": null,
      "metadata": {
        "id": "7mSVLPEziBwr"
      },
      "outputs": [],
      "source": [
        "import numpy as np\n",
        "import pandas as pd\n",
        "import statsmodels.api as sm"
      ]
    },
    {
      "cell_type": "markdown",
      "source": [
        "### **Question 2**"
      ],
      "metadata": {
        "id": "4SEPEwcdSS5T"
      }
    },
    {
      "cell_type": "code",
      "source": [
        "\n",
        "data = np.array([[1, 3],\n",
        "                [-1, -2],\n",
        "                [2, 4]])\n",
        "\n",
        "print(data)"
      ],
      "metadata": {
        "colab": {
          "base_uri": "https://localhost:8080/"
        },
        "id": "XPSFWgu7RgY9",
        "outputId": "97b03c86-f4d4-427d-e60c-bbf965e69dd2"
      },
      "execution_count": null,
      "outputs": [
        {
          "output_type": "stream",
          "name": "stdout",
          "text": [
            "[[ 1  3]\n",
            " [-1 -2]\n",
            " [ 2  4]]\n"
          ]
        }
      ]
    },
    {
      "cell_type": "code",
      "source": [
        "rownames = [\"1\", \"2\", \"3\"]\n",
        "colnames = [\"x^i\", \"t^i\"]\n",
        "\n",
        "Data1 = pd.DataFrame(data, index=rownames, columns=colnames)\n",
        "\n",
        "print(Data1)"
      ],
      "metadata": {
        "colab": {
          "base_uri": "https://localhost:8080/"
        },
        "id": "NtzZzwAhRkf2",
        "outputId": "dcff6488-bbe3-4c10-891d-c1c400c5264e"
      },
      "execution_count": null,
      "outputs": [
        {
          "output_type": "stream",
          "name": "stdout",
          "text": [
            "   x^i  t^i\n",
            "1    1    3\n",
            "2   -1   -2\n",
            "3    2    4\n"
          ]
        }
      ]
    },
    {
      "cell_type": "code",
      "source": [
        "X = Data1['x^i']\n",
        "y = Data1['t^i']\n",
        "model = sm.OLS(y, X).fit()\n",
        "\n",
        "print(model.summary())"
      ],
      "metadata": {
        "colab": {
          "base_uri": "https://localhost:8080/"
        },
        "id": "xcQX-0bYR5JH",
        "outputId": "95e22973-ecee-4a16-e914-f1183f1a7f91"
      },
      "execution_count": null,
      "outputs": [
        {
          "output_type": "stream",
          "name": "stdout",
          "text": [
            "                                 OLS Regression Results                                \n",
            "=======================================================================================\n",
            "Dep. Variable:                    t^i   R-squared (uncentered):                   0.971\n",
            "Model:                            OLS   Adj. R-squared (uncentered):              0.957\n",
            "Method:                 Least Squares   F-statistic:                              67.60\n",
            "Date:                Wed, 04 Oct 2023   Prob (F-statistic):                      0.0145\n",
            "Time:                        20:02:11   Log-Likelihood:                         -2.3354\n",
            "No. Observations:                   3   AIC:                                      6.671\n",
            "Df Residuals:                       2   BIC:                                      5.769\n",
            "Df Model:                           1                                                  \n",
            "Covariance Type:            nonrobust                                                  \n",
            "==============================================================================\n",
            "                 coef    std err          t      P>|t|      [0.025      0.975]\n",
            "------------------------------------------------------------------------------\n",
            "x^i            2.1667      0.264      8.222      0.014       1.033       3.301\n",
            "==============================================================================\n",
            "Omnibus:                          nan   Durbin-Watson:                   0.833\n",
            "Prob(Omnibus):                    nan   Jarque-Bera (JB):                0.296\n",
            "Skew:                           0.173   Prob(JB):                        0.862\n",
            "Kurtosis:                       1.500   Cond. No.                         1.00\n",
            "==============================================================================\n",
            "\n",
            "Notes:\n",
            "[1] R² is computed without centering (uncentered) since the model does not contain a constant.\n",
            "[2] Standard Errors assume that the covariance matrix of the errors is correctly specified.\n"
          ]
        },
        {
          "output_type": "stream",
          "name": "stderr",
          "text": [
            "/usr/local/lib/python3.10/dist-packages/statsmodels/stats/stattools.py:74: ValueWarning: omni_normtest is not valid with less than 8 observations; 3 samples were given.\n",
            "  warn(\"omni_normtest is not valid with less than 8 observations; %i \"\n"
          ]
        }
      ]
    },
    {
      "cell_type": "code",
      "source": [
        "13/6 #This was the best value we found for beta_1, and should be the same as the coef of x^1"
      ],
      "metadata": {
        "colab": {
          "base_uri": "https://localhost:8080/"
        },
        "id": "0bxqlEt3SOI6",
        "outputId": "ac8afd5e-c86e-457c-ce60-d8d215faeb59"
      },
      "execution_count": 8,
      "outputs": [
        {
          "output_type": "execute_result",
          "data": {
            "text/plain": [
              "2.1666666666666665"
            ]
          },
          "metadata": {},
          "execution_count": 8
        }
      ]
    },
    {
      "cell_type": "markdown",
      "source": [
        "### **Question 3**"
      ],
      "metadata": {
        "id": "HPCOOpMjSXui"
      }
    },
    {
      "cell_type": "code",
      "source": [
        "13/6"
      ],
      "metadata": {
        "colab": {
          "base_uri": "https://localhost:8080/"
        },
        "id": "FFZnRh9kSnvq",
        "outputId": "cbbabe13-7c89-4f50-a791-897765eba3c9"
      },
      "execution_count": 7,
      "outputs": [
        {
          "output_type": "execute_result",
          "data": {
            "text/plain": [
              "2.1666666666666665"
            ]
          },
          "metadata": {},
          "execution_count": 7
        }
      ]
    }
  ]
}